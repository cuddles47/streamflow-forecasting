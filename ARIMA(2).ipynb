{
 "cells": [
  {
   "cell_type": "code",
   "execution_count": 58,
   "metadata": {},
   "outputs": [],
   "source": [
    "import pandas as pd\n",
    "import numpy as np\n",
    "import matplotlib.pyplot as plt\n",
    "from pmdarima import auto_arima\n",
    "from statsmodels.tsa.stattools import adfuller\n",
    "from statsmodels.graphics.tsaplots import plot_acf,plot_pacf\n",
    "from statsmodels.tsa.arima.model import ARIMA\n",
    "from sklearn.metrics import mean_squared_error\n",
    "from math import sqrt\n",
    "#import warnings\n",
    "#warnings.filterwarnings('ignore')\n"
   ]
  },
  {
   "cell_type": "markdown",
   "metadata": {},
   "source": [
    "# Data maninpulation, transformation, aggregation and analysis \n",
    "**Task list**\n",
    "- overall view\n",
    "- convert datatype to datetime for timeseries\n",
    "- replacing missing data with NaN then replace NaN with mean_value"
   ]
  },
  {
   "cell_type": "code",
   "execution_count": 59,
   "metadata": {},
   "outputs": [],
   "source": [
    "df = pd.read_csv(\"Tinput.csv\")\n",
    "features = ['Date','Qden','Thucdo']"
   ]
  },
  {
   "cell_type": "code",
   "execution_count": 60,
   "metadata": {},
   "outputs": [
    {
     "data": {
      "text/html": [
       "<div>\n",
       "<style scoped>\n",
       "    .dataframe tbody tr th:only-of-type {\n",
       "        vertical-align: middle;\n",
       "    }\n",
       "\n",
       "    .dataframe tbody tr th {\n",
       "        vertical-align: top;\n",
       "    }\n",
       "\n",
       "    .dataframe thead th {\n",
       "        text-align: right;\n",
       "    }\n",
       "</style>\n",
       "<table border=\"1\" class=\"dataframe\">\n",
       "  <thead>\n",
       "    <tr style=\"text-align: right;\">\n",
       "      <th></th>\n",
       "      <th>Date</th>\n",
       "      <th>Qden</th>\n",
       "      <th>Thucdo</th>\n",
       "    </tr>\n",
       "  </thead>\n",
       "  <tbody>\n",
       "    <tr>\n",
       "      <th>0</th>\n",
       "      <td>9/16/2015</td>\n",
       "      <td>91</td>\n",
       "      <td>0.0</td>\n",
       "    </tr>\n",
       "    <tr>\n",
       "      <th>1</th>\n",
       "      <td>9/17/2015</td>\n",
       "      <td>70.77</td>\n",
       "      <td>3.6</td>\n",
       "    </tr>\n",
       "    <tr>\n",
       "      <th>2</th>\n",
       "      <td>9/18/2015</td>\n",
       "      <td>117.44</td>\n",
       "      <td>6.4</td>\n",
       "    </tr>\n",
       "    <tr>\n",
       "      <th>3</th>\n",
       "      <td>9/19/2015</td>\n",
       "      <td>146.9</td>\n",
       "      <td>0.9</td>\n",
       "    </tr>\n",
       "    <tr>\n",
       "      <th>4</th>\n",
       "      <td>9/20/2015</td>\n",
       "      <td>110.87</td>\n",
       "      <td>0.5</td>\n",
       "    </tr>\n",
       "    <tr>\n",
       "      <th>5</th>\n",
       "      <td>9/21/2015</td>\n",
       "      <td>101.45</td>\n",
       "      <td>0.1</td>\n",
       "    </tr>\n",
       "    <tr>\n",
       "      <th>6</th>\n",
       "      <td>9/22/2015</td>\n",
       "      <td>141.78</td>\n",
       "      <td>20.6</td>\n",
       "    </tr>\n",
       "    <tr>\n",
       "      <th>7</th>\n",
       "      <td>9/23/2015</td>\n",
       "      <td>126.33</td>\n",
       "      <td>6.6</td>\n",
       "    </tr>\n",
       "    <tr>\n",
       "      <th>8</th>\n",
       "      <td>9/24/2015</td>\n",
       "      <td>97.74</td>\n",
       "      <td>0.2</td>\n",
       "    </tr>\n",
       "    <tr>\n",
       "      <th>9</th>\n",
       "      <td>9/25/2015</td>\n",
       "      <td>99.83</td>\n",
       "      <td>0.0</td>\n",
       "    </tr>\n",
       "    <tr>\n",
       "      <th>10</th>\n",
       "      <td>9/26/2015</td>\n",
       "      <td>244.59</td>\n",
       "      <td>78.0</td>\n",
       "    </tr>\n",
       "    <tr>\n",
       "      <th>11</th>\n",
       "      <td>9/27/2015</td>\n",
       "      <td>145.37</td>\n",
       "      <td>0.0</td>\n",
       "    </tr>\n",
       "    <tr>\n",
       "      <th>12</th>\n",
       "      <td>9/28/2015</td>\n",
       "      <td>217.06</td>\n",
       "      <td>0.0</td>\n",
       "    </tr>\n",
       "    <tr>\n",
       "      <th>13</th>\n",
       "      <td>9/29/2015</td>\n",
       "      <td>140.89</td>\n",
       "      <td>0.0</td>\n",
       "    </tr>\n",
       "    <tr>\n",
       "      <th>14</th>\n",
       "      <td>9/30/2015</td>\n",
       "      <td>106.38</td>\n",
       "      <td>0.2</td>\n",
       "    </tr>\n",
       "    <tr>\n",
       "      <th>15</th>\n",
       "      <td>10/1/2015</td>\n",
       "      <td>94.34</td>\n",
       "      <td>0.6</td>\n",
       "    </tr>\n",
       "    <tr>\n",
       "      <th>16</th>\n",
       "      <td>10/2/2015</td>\n",
       "      <td>93.2</td>\n",
       "      <td>0.0</td>\n",
       "    </tr>\n",
       "    <tr>\n",
       "      <th>17</th>\n",
       "      <td>10/3/2015</td>\n",
       "      <td>87.38</td>\n",
       "      <td>0.2</td>\n",
       "    </tr>\n",
       "    <tr>\n",
       "      <th>18</th>\n",
       "      <td>10/4/2015</td>\n",
       "      <td>87.52</td>\n",
       "      <td>0.0</td>\n",
       "    </tr>\n",
       "    <tr>\n",
       "      <th>19</th>\n",
       "      <td>10/5/2015</td>\n",
       "      <td>97.04</td>\n",
       "      <td>0.0</td>\n",
       "    </tr>\n",
       "  </tbody>\n",
       "</table>\n",
       "</div>"
      ],
      "text/plain": [
       "         Date    Qden  Thucdo\n",
       "0   9/16/2015      91     0.0\n",
       "1   9/17/2015   70.77     3.6\n",
       "2   9/18/2015  117.44     6.4\n",
       "3   9/19/2015   146.9     0.9\n",
       "4   9/20/2015  110.87     0.5\n",
       "5   9/21/2015  101.45     0.1\n",
       "6   9/22/2015  141.78    20.6\n",
       "7   9/23/2015  126.33     6.6\n",
       "8   9/24/2015   97.74     0.2\n",
       "9   9/25/2015   99.83     0.0\n",
       "10  9/26/2015  244.59    78.0\n",
       "11  9/27/2015  145.37     0.0\n",
       "12  9/28/2015  217.06     0.0\n",
       "13  9/29/2015  140.89     0.0\n",
       "14  9/30/2015  106.38     0.2\n",
       "15  10/1/2015   94.34     0.6\n",
       "16  10/2/2015    93.2     0.0\n",
       "17  10/3/2015   87.38     0.2\n",
       "18  10/4/2015   87.52     0.0\n",
       "19  10/5/2015   97.04     0.0"
      ]
     },
     "execution_count": 60,
     "metadata": {},
     "output_type": "execute_result"
    }
   ],
   "source": [
    "df[features].head(20)"
   ]
  },
  {
   "cell_type": "code",
   "execution_count": 61,
   "metadata": {},
   "outputs": [
    {
     "data": {
      "text/html": [
       "<div>\n",
       "<style scoped>\n",
       "    .dataframe tbody tr th:only-of-type {\n",
       "        vertical-align: middle;\n",
       "    }\n",
       "\n",
       "    .dataframe tbody tr th {\n",
       "        vertical-align: top;\n",
       "    }\n",
       "\n",
       "    .dataframe thead th {\n",
       "        text-align: right;\n",
       "    }\n",
       "</style>\n",
       "<table border=\"1\" class=\"dataframe\">\n",
       "  <thead>\n",
       "    <tr style=\"text-align: right;\">\n",
       "      <th></th>\n",
       "      <th>Date</th>\n",
       "      <th>Qden</th>\n",
       "      <th>Thucdo</th>\n",
       "    </tr>\n",
       "  </thead>\n",
       "  <tbody>\n",
       "    <tr>\n",
       "      <th>2339</th>\n",
       "      <td>2/10/2022</td>\n",
       "      <td>41</td>\n",
       "      <td>0.0</td>\n",
       "    </tr>\n",
       "    <tr>\n",
       "      <th>2340</th>\n",
       "      <td>2/11/2022</td>\n",
       "      <td>18.05</td>\n",
       "      <td>0.0</td>\n",
       "    </tr>\n",
       "    <tr>\n",
       "      <th>2341</th>\n",
       "      <td>2/12/2022</td>\n",
       "      <td>31.2</td>\n",
       "      <td>0.4</td>\n",
       "    </tr>\n",
       "    <tr>\n",
       "      <th>2342</th>\n",
       "      <td>2/13/2022</td>\n",
       "      <td>43.95</td>\n",
       "      <td>0.0</td>\n",
       "    </tr>\n",
       "    <tr>\n",
       "      <th>2343</th>\n",
       "      <td>2/14/2022</td>\n",
       "      <td>27.6</td>\n",
       "      <td>0.0</td>\n",
       "    </tr>\n",
       "    <tr>\n",
       "      <th>2344</th>\n",
       "      <td>2/15/2022</td>\n",
       "      <td>11.3</td>\n",
       "      <td>0.0</td>\n",
       "    </tr>\n",
       "    <tr>\n",
       "      <th>2345</th>\n",
       "      <td>2/16/2022</td>\n",
       "      <td>20.15</td>\n",
       "      <td>0.0</td>\n",
       "    </tr>\n",
       "    <tr>\n",
       "      <th>2346</th>\n",
       "      <td>2/17/2022</td>\n",
       "      <td>29.45</td>\n",
       "      <td>0.0</td>\n",
       "    </tr>\n",
       "    <tr>\n",
       "      <th>2347</th>\n",
       "      <td>2/18/2022</td>\n",
       "      <td>22.67</td>\n",
       "      <td>0.0</td>\n",
       "    </tr>\n",
       "    <tr>\n",
       "      <th>2348</th>\n",
       "      <td>2/19/2022</td>\n",
       "      <td>10.2</td>\n",
       "      <td>0.0</td>\n",
       "    </tr>\n",
       "    <tr>\n",
       "      <th>2349</th>\n",
       "      <td>2/20/2022</td>\n",
       "      <td>149.8</td>\n",
       "      <td>0.0</td>\n",
       "    </tr>\n",
       "    <tr>\n",
       "      <th>2350</th>\n",
       "      <td>2/21/2022</td>\n",
       "      <td>52</td>\n",
       "      <td>4.0</td>\n",
       "    </tr>\n",
       "    <tr>\n",
       "      <th>2351</th>\n",
       "      <td>2/22/2022</td>\n",
       "      <td>84.3</td>\n",
       "      <td>0.8</td>\n",
       "    </tr>\n",
       "    <tr>\n",
       "      <th>2352</th>\n",
       "      <td>2/23/2022</td>\n",
       "      <td>74.84</td>\n",
       "      <td>0.0</td>\n",
       "    </tr>\n",
       "    <tr>\n",
       "      <th>2353</th>\n",
       "      <td>2/24/2022</td>\n",
       "      <td>54.73</td>\n",
       "      <td>0.0</td>\n",
       "    </tr>\n",
       "    <tr>\n",
       "      <th>2354</th>\n",
       "      <td>2/25/2022</td>\n",
       "      <td>58.9</td>\n",
       "      <td>0.0</td>\n",
       "    </tr>\n",
       "    <tr>\n",
       "      <th>2355</th>\n",
       "      <td>2/26/2022</td>\n",
       "      <td>24.45</td>\n",
       "      <td>0.0</td>\n",
       "    </tr>\n",
       "    <tr>\n",
       "      <th>2356</th>\n",
       "      <td>2/27/2022</td>\n",
       "      <td>28.1</td>\n",
       "      <td>0.0</td>\n",
       "    </tr>\n",
       "    <tr>\n",
       "      <th>2357</th>\n",
       "      <td>2/28/2022</td>\n",
       "      <td>38.4</td>\n",
       "      <td>0.0</td>\n",
       "    </tr>\n",
       "    <tr>\n",
       "      <th>2358</th>\n",
       "      <td>3/1/2022</td>\n",
       "      <td>13</td>\n",
       "      <td>0.0</td>\n",
       "    </tr>\n",
       "  </tbody>\n",
       "</table>\n",
       "</div>"
      ],
      "text/plain": [
       "           Date   Qden  Thucdo\n",
       "2339  2/10/2022     41     0.0\n",
       "2340  2/11/2022  18.05     0.0\n",
       "2341  2/12/2022   31.2     0.4\n",
       "2342  2/13/2022  43.95     0.0\n",
       "2343  2/14/2022   27.6     0.0\n",
       "2344  2/15/2022   11.3     0.0\n",
       "2345  2/16/2022  20.15     0.0\n",
       "2346  2/17/2022  29.45     0.0\n",
       "2347  2/18/2022  22.67     0.0\n",
       "2348  2/19/2022   10.2     0.0\n",
       "2349  2/20/2022  149.8     0.0\n",
       "2350  2/21/2022     52     4.0\n",
       "2351  2/22/2022   84.3     0.8\n",
       "2352  2/23/2022  74.84     0.0\n",
       "2353  2/24/2022  54.73     0.0\n",
       "2354  2/25/2022   58.9     0.0\n",
       "2355  2/26/2022  24.45     0.0\n",
       "2356  2/27/2022   28.1     0.0\n",
       "2357  2/28/2022   38.4     0.0\n",
       "2358   3/1/2022     13     0.0"
      ]
     },
     "execution_count": 61,
     "metadata": {},
     "output_type": "execute_result"
    }
   ],
   "source": [
    "df[features].tail(20)"
   ]
  },
  {
   "cell_type": "code",
   "execution_count": 62,
   "metadata": {},
   "outputs": [
    {
     "data": {
      "text/html": [
       "<div>\n",
       "<style scoped>\n",
       "    .dataframe tbody tr th:only-of-type {\n",
       "        vertical-align: middle;\n",
       "    }\n",
       "\n",
       "    .dataframe tbody tr th {\n",
       "        vertical-align: top;\n",
       "    }\n",
       "\n",
       "    .dataframe thead th {\n",
       "        text-align: right;\n",
       "    }\n",
       "</style>\n",
       "<table border=\"1\" class=\"dataframe\">\n",
       "  <thead>\n",
       "    <tr style=\"text-align: right;\">\n",
       "      <th></th>\n",
       "      <th>Thucdo</th>\n",
       "    </tr>\n",
       "  </thead>\n",
       "  <tbody>\n",
       "    <tr>\n",
       "      <th>count</th>\n",
       "      <td>2359.000000</td>\n",
       "    </tr>\n",
       "    <tr>\n",
       "      <th>mean</th>\n",
       "      <td>3.529843</td>\n",
       "    </tr>\n",
       "    <tr>\n",
       "      <th>std</th>\n",
       "      <td>11.969361</td>\n",
       "    </tr>\n",
       "    <tr>\n",
       "      <th>min</th>\n",
       "      <td>0.000000</td>\n",
       "    </tr>\n",
       "    <tr>\n",
       "      <th>25%</th>\n",
       "      <td>0.000000</td>\n",
       "    </tr>\n",
       "    <tr>\n",
       "      <th>50%</th>\n",
       "      <td>0.000000</td>\n",
       "    </tr>\n",
       "    <tr>\n",
       "      <th>75%</th>\n",
       "      <td>0.400000</td>\n",
       "    </tr>\n",
       "    <tr>\n",
       "      <th>max</th>\n",
       "      <td>198.800000</td>\n",
       "    </tr>\n",
       "  </tbody>\n",
       "</table>\n",
       "</div>"
      ],
      "text/plain": [
       "            Thucdo\n",
       "count  2359.000000\n",
       "mean      3.529843\n",
       "std      11.969361\n",
       "min       0.000000\n",
       "25%       0.000000\n",
       "50%       0.000000\n",
       "75%       0.400000\n",
       "max     198.800000"
      ]
     },
     "execution_count": 62,
     "metadata": {},
     "output_type": "execute_result"
    }
   ],
   "source": [
    "df[features].describe()"
   ]
  },
  {
   "cell_type": "code",
   "execution_count": 63,
   "metadata": {},
   "outputs": [
    {
     "name": "stdout",
     "output_type": "stream",
     "text": [
      "Shape of data : (2359, 3)\n"
     ]
    }
   ],
   "source": [
    "print(f'Shape of data : {df.shape}')"
   ]
  },
  {
   "cell_type": "code",
   "execution_count": 64,
   "metadata": {},
   "outputs": [
    {
     "name": "stdout",
     "output_type": "stream",
     "text": [
      "Data type : Date       object\n",
      "Thucdo    float64\n",
      "Qden       object\n",
      "dtype: object\n"
     ]
    }
   ],
   "source": [
    "print(f'Data type : {df.dtypes}')"
   ]
  },
  {
   "cell_type": "code",
   "execution_count": 65,
   "metadata": {},
   "outputs": [
    {
     "name": "stdout",
     "output_type": "stream",
     "text": [
      "Data type : Date      datetime64[ns]\n",
      "Thucdo           float64\n",
      "Qden              object\n",
      "dtype: object\n"
     ]
    }
   ],
   "source": [
    "df['Date'] = [pd.to_datetime(x) for x in df['Date']]\n",
    "df.sort_values('Date', inplace=True)\n",
    "print(f'Data type : {df.dtypes}')"
   ]
  },
  {
   "cell_type": "code",
   "execution_count": 66,
   "metadata": {},
   "outputs": [
    {
     "name": "stdout",
     "output_type": "stream",
     "text": [
      "Dataframe start at: 2015-09-16 00:00:00\n",
      "Dataframe end at: 2022-03-01 00:00:00\n"
     ]
    }
   ],
   "source": [
    "print(f\"Dataframe start at: {min(df['Date'])}\")\n",
    "print(f\"Dataframe end at: {max(df['Date'])}\")"
   ]
  },
  {
   "cell_type": "code",
   "execution_count": 67,
   "metadata": {},
   "outputs": [
    {
     "name": "stdout",
     "output_type": "stream",
     "text": [
      "Qden mean value : 108.41560051107327\n",
      "Number of missing values: 11\n"
     ]
    }
   ],
   "source": [
    "df['Qden'] = pd.to_numeric(df['Qden'], errors='coerce')\n",
    "mean_value = np.mean(df['Qden'])\n",
    "print(f'Qden mean value : {mean_value}')\n",
    "missing_count = df['Qden'].isnull().sum()\n",
    "print(\"Number of missing values:\", missing_count)\n"
   ]
  },
  {
   "cell_type": "code",
   "execution_count": 68,
   "metadata": {},
   "outputs": [
    {
     "name": "stdout",
     "output_type": "stream",
     "text": [
      "Number of missing values: 0\n"
     ]
    }
   ],
   "source": [
    "df['Qden'].fillna(mean_value,inplace = True)\n",
    "missing_count = df['Qden'].isnull().sum()\n",
    "print(\"Number of missing values:\", missing_count)"
   ]
  },
  {
   "cell_type": "code",
   "execution_count": 69,
   "metadata": {},
   "outputs": [
    {
     "name": "stdout",
     "output_type": "stream",
     "text": [
      "Standard deviation of dataframe:\n",
      "Date      681 days 03:05:42.557270568\n",
      "Thucdo                      11.969361\n",
      "Qden                       141.812675\n",
      "dtype: object\n"
     ]
    }
   ],
   "source": [
    "std_deviation = df.std()\n",
    "print(\"Standard deviation of dataframe:\")\n",
    "print(std_deviation)"
   ]
  },
  {
   "cell_type": "code",
   "execution_count": 70,
   "metadata": {},
   "outputs": [
    {
     "name": "stdout",
     "output_type": "stream",
     "text": [
      "Number of observations: 2359\n"
     ]
    }
   ],
   "source": [
    "print(f\"Number of observations:\",len(df))"
   ]
  },
  {
   "cell_type": "code",
   "execution_count": 71,
   "metadata": {},
   "outputs": [
    {
     "name": "stdout",
     "output_type": "stream",
     "text": [
      "<class 'pandas.core.frame.DataFrame'>\n",
      "RangeIndex: 2359 entries, 0 to 2358\n",
      "Data columns (total 3 columns):\n",
      " #   Column  Non-Null Count  Dtype         \n",
      "---  ------  --------------  -----         \n",
      " 0   Date    2359 non-null   datetime64[ns]\n",
      " 1   Thucdo  2359 non-null   float64       \n",
      " 2   Qden    2359 non-null   float64       \n",
      "dtypes: datetime64[ns](1), float64(2)\n",
      "memory usage: 55.4 KB\n"
     ]
    }
   ],
   "source": [
    "df.info()"
   ]
  },
  {
   "cell_type": "code",
   "execution_count": 72,
   "metadata": {},
   "outputs": [
    {
     "data": {
      "text/plain": [
       "<Axes: >"
      ]
     },
     "execution_count": 72,
     "metadata": {},
     "output_type": "execute_result"
    },
    {
     "data": {
      "image/png": "[encoded data removed]",
      "text/plain": [
       "<Figure size 1200x800 with 1 Axes>"
      ]
     },
     "metadata": {},
     "output_type": "display_data"
    }
   ],
   "source": [
    "df[['Qden','Thucdo']].plot(figsize=(12,8))"
   ]
  },
  {
   "cell_type": "code",
   "execution_count": 73,
   "metadata": {},
   "outputs": [
    {
     "name": "stdout",
     "output_type": "stream",
     "text": [
      "Performing stepwise search to minimize aic\n"
     ]
    },
    {
     "name": "stdout",
     "output_type": "stream",
     "text": [
      " ARIMA(2,0,2)(0,0,0)[0] intercept   : AIC=27504.404, Time=2.20 sec\n",
      " ARIMA(0,0,0)(0,0,0)[0] intercept   : AIC=30072.916, Time=0.04 sec\n",
      " ARIMA(1,0,0)(0,0,0)[0] intercept   : AIC=27738.611, Time=0.10 sec\n",
      " ARIMA(0,0,1)(0,0,0)[0] intercept   : AIC=28762.799, Time=0.46 sec\n",
      " ARIMA(0,0,0)(0,0,0)[0]             : AIC=31156.997, Time=0.02 sec\n",
      " ARIMA(1,0,2)(0,0,0)[0] intercept   : AIC=27511.528, Time=1.20 sec\n",
      " ARIMA(2,0,1)(0,0,0)[0] intercept   : AIC=27503.517, Time=1.20 sec\n",
      " ARIMA(1,0,1)(0,0,0)[0] intercept   : AIC=27599.737, Time=0.70 sec\n",
      " ARIMA(2,0,0)(0,0,0)[0] intercept   : AIC=27663.635, Time=0.17 sec\n",
      " ARIMA(3,0,1)(0,0,0)[0] intercept   : AIC=27504.653, Time=1.44 sec\n",
      " ARIMA(3,0,0)(0,0,0)[0] intercept   : AIC=27586.715, Time=0.28 sec\n",
      " ARIMA(3,0,2)(0,0,0)[0] intercept   : AIC=inf, Time=1.49 sec\n",
      " ARIMA(2,0,1)(0,0,0)[0]             : AIC=27512.785, Time=0.70 sec\n",
      "\n",
      "Best model:  ARIMA(2,0,1)(0,0,0)[0] intercept\n",
      "Total fit time: 10.023 seconds\n"
     ]
    }
   ],
   "source": [
    "stepwise_fit = auto_arima(df['Qden'],trace = True,suppress_warnings=True)"
   ]
  },
  {
   "cell_type": "code",
   "execution_count": 74,
   "metadata": {},
   "outputs": [
    {
     "name": "stdout",
     "output_type": "stream",
     "text": [
      "AIC: 27510.986769672618\n"
     ]
    },
    {
     "data": {
      "text/html": [
       "<table class=\"simpletable\">\n",
       "<caption>SARIMAX Results</caption>\n",
       "<tr>\n",
       "  <th>Dep. Variable:</th>         <td>Qden</td>       <th>  No. Observations:  </th>    <td>2359</td>   \n",
       "</tr>\n",
       "<tr>\n",
       "  <th>Model:</th>            <td>ARIMA(2, 1, 5)</td>  <th>  Log Likelihood     </th> <td>-13747.493</td>\n",
       "</tr>\n",
       "<tr>\n",
       "  <th>Date:</th>            <td>Sun, 24 Mar 2024</td> <th>  AIC                </th>  <td>27510.987</td>\n",
       "</tr>\n",
       "<tr>\n",
       "  <th>Time:</th>                <td>12:39:14</td>     <th>  BIC                </th>  <td>27557.111</td>\n",
       "</tr>\n",
       "<tr>\n",
       "  <th>Sample:</th>                  <td>0</td>        <th>  HQIC               </th>  <td>27527.782</td>\n",
       "</tr>\n",
       "<tr>\n",
       "  <th></th>                      <td> - 2359</td>     <th>                     </th>      <td> </td>    \n",
       "</tr>\n",
       "<tr>\n",
       "  <th>Covariance Type:</th>        <td>opg</td>       <th>                     </th>      <td> </td>    \n",
       "</tr>\n",
       "</table>\n",
       "<table class=\"simpletable\">\n",
       "<tr>\n",
       "     <td></td>       <th>coef</th>     <th>std err</th>      <th>z</th>      <th>P>|z|</th>  <th>[0.025</th>    <th>0.975]</th>  \n",
       "</tr>\n",
       "<tr>\n",
       "  <th>ar.L1</th>  <td>   -0.1779</td> <td>    0.125</td> <td>   -1.419</td> <td> 0.156</td> <td>   -0.424</td> <td>    0.068</td>\n",
       "</tr>\n",
       "<tr>\n",
       "  <th>ar.L2</th>  <td>    0.8015</td> <td>    0.118</td> <td>    6.818</td> <td> 0.000</td> <td>    0.571</td> <td>    1.032</td>\n",
       "</tr>\n",
       "<tr>\n",
       "  <th>ma.L1</th>  <td>   -0.2466</td> <td>    0.126</td> <td>   -1.957</td> <td> 0.050</td> <td>   -0.494</td> <td>    0.000</td>\n",
       "</tr>\n",
       "<tr>\n",
       "  <th>ma.L2</th>  <td>   -1.0902</td> <td>    0.154</td> <td>   -7.070</td> <td> 0.000</td> <td>   -1.392</td> <td>   -0.788</td>\n",
       "</tr>\n",
       "<tr>\n",
       "  <th>ma.L3</th>  <td>    0.2603</td> <td>    0.040</td> <td>    6.439</td> <td> 0.000</td> <td>    0.181</td> <td>    0.340</td>\n",
       "</tr>\n",
       "<tr>\n",
       "  <th>ma.L4</th>  <td>    0.1415</td> <td>    0.027</td> <td>    5.231</td> <td> 0.000</td> <td>    0.088</td> <td>    0.194</td>\n",
       "</tr>\n",
       "<tr>\n",
       "  <th>ma.L5</th>  <td>    0.0101</td> <td>    0.018</td> <td>    0.567</td> <td> 0.570</td> <td>   -0.025</td> <td>    0.045</td>\n",
       "</tr>\n",
       "<tr>\n",
       "  <th>sigma2</th> <td> 6811.3414</td> <td>   63.274</td> <td>  107.648</td> <td> 0.000</td> <td> 6687.327</td> <td> 6935.356</td>\n",
       "</tr>\n",
       "</table>\n",
       "<table class=\"simpletable\">\n",
       "<tr>\n",
       "  <th>Ljung-Box (L1) (Q):</th>     <td>0.00</td> <th>  Jarque-Bera (JB):  </th> <td>47950.95</td>\n",
       "</tr>\n",
       "<tr>\n",
       "  <th>Prob(Q):</th>                <td>1.00</td> <th>  Prob(JB):          </th>   <td>0.00</td>  \n",
       "</tr>\n",
       "<tr>\n",
       "  <th>Heteroskedasticity (H):</th> <td>0.80</td> <th>  Skew:              </th>   <td>2.68</td>  \n",
       "</tr>\n",
       "<tr>\n",
       "  <th>Prob(H) (two-sided):</th>    <td>0.00</td> <th>  Kurtosis:          </th>   <td>24.43</td> \n",
       "</tr>\n",
       "</table><br/><br/>Warnings:<br/>[1] Covariance matrix calculated using the outer product of gradients (complex-step)."
      ],
      "text/latex": [
       "\\begin{center}\n",
       "\\begin{tabular}{lclc}\n",
       "\\toprule\n",
       "\\textbf{Dep. Variable:}          &       Qden       & \\textbf{  No. Observations:  } &    2359     \\\\\n",
       "\\textbf{Model:}                  &  ARIMA(2, 1, 5)  & \\textbf{  Log Likelihood     } & -13747.493  \\\\\n",
       "\\textbf{Date:}                   & Sun, 24 Mar 2024 & \\textbf{  AIC                } & 27510.987   \\\\\n",
       "\\textbf{Time:}                   &     12:39:14     & \\textbf{  BIC                } & 27557.111   \\\\\n",
       "\\textbf{Sample:}                 &        0         & \\textbf{  HQIC               } & 27527.782   \\\\\n",
       "\\textbf{}                        &      - 2359      & \\textbf{                     } &             \\\\\n",
       "\\textbf{Covariance Type:}        &       opg        & \\textbf{                     } &             \\\\\n",
       "\\bottomrule\n",
       "\\end{tabular}\n",
       "\\begin{tabular}{lcccccc}\n",
       "                & \\textbf{coef} & \\textbf{std err} & \\textbf{z} & \\textbf{P$> |$z$|$} & \\textbf{[0.025} & \\textbf{0.975]}  \\\\\n",
       "\\midrule\n",
       "\\textbf{ar.L1}  &      -0.1779  &        0.125     &    -1.419  &         0.156        &       -0.424    &        0.068     \\\\\n",
       "\\textbf{ar.L2}  &       0.8015  &        0.118     &     6.818  &         0.000        &        0.571    &        1.032     \\\\\n",
       "\\textbf{ma.L1}  &      -0.2466  &        0.126     &    -1.957  &         0.050        &       -0.494    &        0.000     \\\\\n",
       "\\textbf{ma.L2}  &      -1.0902  &        0.154     &    -7.070  &         0.000        &       -1.392    &       -0.788     \\\\\n",
       "\\textbf{ma.L3}  &       0.2603  &        0.040     &     6.439  &         0.000        &        0.181    &        0.340     \\\\\n",
       "\\textbf{ma.L4}  &       0.1415  &        0.027     &     5.231  &         0.000        &        0.088    &        0.194     \\\\\n",
       "\\textbf{ma.L5}  &       0.0101  &        0.018     &     0.567  &         0.570        &       -0.025    &        0.045     \\\\\n",
       "\\textbf{sigma2} &    6811.3414  &       63.274     &   107.648  &         0.000        &     6687.327    &     6935.356     \\\\\n",
       "\\bottomrule\n",
       "\\end{tabular}\n",
       "\\begin{tabular}{lclc}\n",
       "\\textbf{Ljung-Box (L1) (Q):}     & 0.00 & \\textbf{  Jarque-Bera (JB):  } & 47950.95  \\\\\n",
       "\\textbf{Prob(Q):}                & 1.00 & \\textbf{  Prob(JB):          } &   0.00    \\\\\n",
       "\\textbf{Heteroskedasticity (H):} & 0.80 & \\textbf{  Skew:              } &   2.68    \\\\\n",
       "\\textbf{Prob(H) (two-sided):}    & 0.00 & \\textbf{  Kurtosis:          } &  24.43    \\\\\n",
       "\\bottomrule\n",
       "\\end{tabular}\n",
       "%\\caption{SARIMAX Results}\n",
       "\\end{center}\n",
       "\n",
       "Warnings: \\newline\n",
       " [1] Covariance matrix calculated using the outer product of gradients (complex-step)."
      ],
      "text/plain": [
       "<class 'statsmodels.iolib.summary.Summary'>\n",
       "\"\"\"\n",
       "                               SARIMAX Results                                \n",
       "==============================================================================\n",
       "Dep. Variable:                   Qden   No. Observations:                 2359\n",
       "Model:                 ARIMA(2, 1, 5)   Log Likelihood              -13747.493\n",
       "Date:                Sun, 24 Mar 2024   AIC                          27510.987\n",
       "Time:                        12:39:14   BIC                          27557.111\n",
       "Sample:                             0   HQIC                         27527.782\n",
       "                               - 2359                                         \n",
       "Covariance Type:                  opg                                         \n",
       "==============================================================================\n",
       "                 coef    std err          z      P>|z|      [0.025      0.975]\n",
       "------------------------------------------------------------------------------\n",
       "ar.L1         -0.1779      0.125     -1.419      0.156      -0.424       0.068\n",
       "ar.L2          0.8015      0.118      6.818      0.000       0.571       1.032\n",
       "ma.L1         -0.2466      0.126     -1.957      0.050      -0.494       0.000\n",
       "ma.L2         -1.0902      0.154     -7.070      0.000      -1.392      -0.788\n",
       "ma.L3          0.2603      0.040      6.439      0.000       0.181       0.340\n",
       "ma.L4          0.1415      0.027      5.231      0.000       0.088       0.194\n",
       "ma.L5          0.0101      0.018      0.567      0.570      -0.025       0.045\n",
       "sigma2      6811.3414     63.274    107.648      0.000    6687.327    6935.356\n",
       "===================================================================================\n",
       "Ljung-Box (L1) (Q):                   0.00   Jarque-Bera (JB):             47950.95\n",
       "Prob(Q):                              1.00   Prob(JB):                         0.00\n",
       "Heteroskedasticity (H):               0.80   Skew:                             2.68\n",
       "Prob(H) (two-sided):                  0.00   Kurtosis:                        24.43\n",
       "===================================================================================\n",
       "\n",
       "Warnings:\n",
       "[1] Covariance matrix calculated using the outer product of gradients (complex-step).\n",
       "\"\"\""
      ]
     },
     "execution_count": 74,
     "metadata": {},
     "output_type": "execute_result"
    }
   ],
   "source": [
    "arima_model = ARIMA(df['Qden'], order=(2,1,5))\n",
    "model =arima_model.fit()\n",
    "aic = model.aic\n",
    "print(\"AIC:\", aic)\n",
    "model.summary() "
   ]
  },
  {
   "cell_type": "code",
   "execution_count": 75,
   "metadata": {},
   "outputs": [
    {
     "name": "stderr",
     "output_type": "stream",
     "text": [
      "c:\\Users\\Admin\\AppData\\Local\\Programs\\Python\\Python39\\lib\\site-packages\\statsmodels\\tsa\\statespace\\sarimax.py:966: UserWarning: Non-stationary starting autoregressive parameters found. Using zeros as starting parameters.\n",
      "  warn('Non-stationary starting autoregressive parameters'\n",
      "c:\\Users\\Admin\\AppData\\Local\\Programs\\Python\\Python39\\lib\\site-packages\\statsmodels\\tsa\\statespace\\sarimax.py:978: UserWarning: Non-invertible starting MA parameters found. Using zeros as starting parameters.\n",
      "  warn('Non-invertible starting MA parameters found.'\n"
     ]
    },
    {
     "name": "stdout",
     "output_type": "stream",
     "text": [
      "AIC: 27503.520148515498\n"
     ]
    },
    {
     "data": {
      "text/html": [
       "<table class=\"simpletable\">\n",
       "<caption>SARIMAX Results</caption>\n",
       "<tr>\n",
       "  <th>Dep. Variable:</th>         <td>Qden</td>       <th>  No. Observations:  </th>    <td>2359</td>   \n",
       "</tr>\n",
       "<tr>\n",
       "  <th>Model:</th>            <td>ARIMA(2, 0, 1)</td>  <th>  Log Likelihood     </th> <td>-13746.760</td>\n",
       "</tr>\n",
       "<tr>\n",
       "  <th>Date:</th>            <td>Sun, 24 Mar 2024</td> <th>  AIC                </th>  <td>27503.520</td>\n",
       "</tr>\n",
       "<tr>\n",
       "  <th>Time:</th>                <td>12:39:15</td>     <th>  BIC                </th>  <td>27532.350</td>\n",
       "</tr>\n",
       "<tr>\n",
       "  <th>Sample:</th>                  <td>0</td>        <th>  HQIC               </th>  <td>27514.018</td>\n",
       "</tr>\n",
       "<tr>\n",
       "  <th></th>                      <td> - 2359</td>     <th>                     </th>      <td> </td>    \n",
       "</tr>\n",
       "<tr>\n",
       "  <th>Covariance Type:</th>        <td>opg</td>       <th>                     </th>      <td> </td>    \n",
       "</tr>\n",
       "</table>\n",
       "<table class=\"simpletable\">\n",
       "<tr>\n",
       "     <td></td>       <th>coef</th>     <th>std err</th>      <th>z</th>      <th>P>|z|</th>  <th>[0.025</th>    <th>0.975]</th>  \n",
       "</tr>\n",
       "<tr>\n",
       "  <th>const</th>  <td>  108.4107</td> <td>   47.223</td> <td>    2.296</td> <td> 0.022</td> <td>   15.855</td> <td>  200.967</td>\n",
       "</tr>\n",
       "<tr>\n",
       "  <th>ar.L1</th>  <td>    1.3918</td> <td>    0.020</td> <td>   70.149</td> <td> 0.000</td> <td>    1.353</td> <td>    1.431</td>\n",
       "</tr>\n",
       "<tr>\n",
       "  <th>ar.L2</th>  <td>   -0.4042</td> <td>    0.018</td> <td>  -22.856</td> <td> 0.000</td> <td>   -0.439</td> <td>   -0.370</td>\n",
       "</tr>\n",
       "<tr>\n",
       "  <th>ma.L1</th>  <td>   -0.8304</td> <td>    0.015</td> <td>  -55.424</td> <td> 0.000</td> <td>   -0.860</td> <td>   -0.801</td>\n",
       "</tr>\n",
       "<tr>\n",
       "  <th>sigma2</th> <td> 6743.1722</td> <td>   88.869</td> <td>   75.878</td> <td> 0.000</td> <td> 6568.992</td> <td> 6917.352</td>\n",
       "</tr>\n",
       "</table>\n",
       "<table class=\"simpletable\">\n",
       "<tr>\n",
       "  <th>Ljung-Box (L1) (Q):</th>     <td>0.10</td> <th>  Jarque-Bera (JB):  </th> <td>53982.35</td>\n",
       "</tr>\n",
       "<tr>\n",
       "  <th>Prob(Q):</th>                <td>0.76</td> <th>  Prob(JB):          </th>   <td>0.00</td>  \n",
       "</tr>\n",
       "<tr>\n",
       "  <th>Heteroskedasticity (H):</th> <td>0.82</td> <th>  Skew:              </th>   <td>2.97</td>  \n",
       "</tr>\n",
       "<tr>\n",
       "  <th>Prob(H) (two-sided):</th>    <td>0.00</td> <th>  Kurtosis:          </th>   <td>25.67</td> \n",
       "</tr>\n",
       "</table><br/><br/>Warnings:<br/>[1] Covariance matrix calculated using the outer product of gradients (complex-step)."
      ],
      "text/latex": [
       "\\begin{center}\n",
       "\\begin{tabular}{lclc}\n",
       "\\toprule\n",
       "\\textbf{Dep. Variable:}          &       Qden       & \\textbf{  No. Observations:  } &    2359     \\\\\n",
       "\\textbf{Model:}                  &  ARIMA(2, 0, 1)  & \\textbf{  Log Likelihood     } & -13746.760  \\\\\n",
       "\\textbf{Date:}                   & Sun, 24 Mar 2024 & \\textbf{  AIC                } & 27503.520   \\\\\n",
       "\\textbf{Time:}                   &     12:39:15     & \\textbf{  BIC                } & 27532.350   \\\\\n",
       "\\textbf{Sample:}                 &        0         & \\textbf{  HQIC               } & 27514.018   \\\\\n",
       "\\textbf{}                        &      - 2359      & \\textbf{                     } &             \\\\\n",
       "\\textbf{Covariance Type:}        &       opg        & \\textbf{                     } &             \\\\\n",
       "\\bottomrule\n",
       "\\end{tabular}\n",
       "\\begin{tabular}{lcccccc}\n",
       "                & \\textbf{coef} & \\textbf{std err} & \\textbf{z} & \\textbf{P$> |$z$|$} & \\textbf{[0.025} & \\textbf{0.975]}  \\\\\n",
       "\\midrule\n",
       "\\textbf{const}  &     108.4107  &       47.223     &     2.296  &         0.022        &       15.855    &      200.967     \\\\\n",
       "\\textbf{ar.L1}  &       1.3918  &        0.020     &    70.149  &         0.000        &        1.353    &        1.431     \\\\\n",
       "\\textbf{ar.L2}  &      -0.4042  &        0.018     &   -22.856  &         0.000        &       -0.439    &       -0.370     \\\\\n",
       "\\textbf{ma.L1}  &      -0.8304  &        0.015     &   -55.424  &         0.000        &       -0.860    &       -0.801     \\\\\n",
       "\\textbf{sigma2} &    6743.1722  &       88.869     &    75.878  &         0.000        &     6568.992    &     6917.352     \\\\\n",
       "\\bottomrule\n",
       "\\end{tabular}\n",
       "\\begin{tabular}{lclc}\n",
       "\\textbf{Ljung-Box (L1) (Q):}     & 0.10 & \\textbf{  Jarque-Bera (JB):  } & 53982.35  \\\\\n",
       "\\textbf{Prob(Q):}                & 0.76 & \\textbf{  Prob(JB):          } &   0.00    \\\\\n",
       "\\textbf{Heteroskedasticity (H):} & 0.82 & \\textbf{  Skew:              } &   2.97    \\\\\n",
       "\\textbf{Prob(H) (two-sided):}    & 0.00 & \\textbf{  Kurtosis:          } &  25.67    \\\\\n",
       "\\bottomrule\n",
       "\\end{tabular}\n",
       "%\\caption{SARIMAX Results}\n",
       "\\end{center}\n",
       "\n",
       "Warnings: \\newline\n",
       " [1] Covariance matrix calculated using the outer product of gradients (complex-step)."
      ],
      "text/plain": [
       "<class 'statsmodels.iolib.summary.Summary'>\n",
       "\"\"\"\n",
       "                               SARIMAX Results                                \n",
       "==============================================================================\n",
       "Dep. Variable:                   Qden   No. Observations:                 2359\n",
       "Model:                 ARIMA(2, 0, 1)   Log Likelihood              -13746.760\n",
       "Date:                Sun, 24 Mar 2024   AIC                          27503.520\n",
       "Time:                        12:39:15   BIC                          27532.350\n",
       "Sample:                             0   HQIC                         27514.018\n",
       "                               - 2359                                         \n",
       "Covariance Type:                  opg                                         \n",
       "==============================================================================\n",
       "                 coef    std err          z      P>|z|      [0.025      0.975]\n",
       "------------------------------------------------------------------------------\n",
       "const        108.4107     47.223      2.296      0.022      15.855     200.967\n",
       "ar.L1          1.3918      0.020     70.149      0.000       1.353       1.431\n",
       "ar.L2         -0.4042      0.018    -22.856      0.000      -0.439      -0.370\n",
       "ma.L1         -0.8304      0.015    -55.424      0.000      -0.860      -0.801\n",
       "sigma2      6743.1722     88.869     75.878      0.000    6568.992    6917.352\n",
       "===================================================================================\n",
       "Ljung-Box (L1) (Q):                   0.10   Jarque-Bera (JB):             53982.35\n",
       "Prob(Q):                              0.76   Prob(JB):                         0.00\n",
       "Heteroskedasticity (H):               0.82   Skew:                             2.97\n",
       "Prob(H) (two-sided):                  0.00   Kurtosis:                        25.67\n",
       "===================================================================================\n",
       "\n",
       "Warnings:\n",
       "[1] Covariance matrix calculated using the outer product of gradients (complex-step).\n",
       "\"\"\""
      ]
     },
     "execution_count": 75,
     "metadata": {},
     "output_type": "execute_result"
    }
   ],
   "source": [
    "arima_model2 = ARIMA(df['Qden'], order=(2,0,1))\n",
    "model2 = arima_model2.fit()\n",
    "aic2 = model2.aic\n",
    "print(\"AIC:\", aic2)\n",
    "model2.summary() "
   ]
  },
  {
   "cell_type": "code",
   "execution_count": 76,
   "metadata": {},
   "outputs": [
    {
     "name": "stdout",
     "output_type": "stream",
     "text": [
      "(2359, 3) \t (2359, 3) \t (235, 3)\n"
     ]
    }
   ],
   "source": [
    "train = df.iloc[:235]\n",
    "test = df.iloc[-235:]\n",
    "print(df.shape,'\\t',df.shape,'\\t',test.shape)"
   ]
  },
  {
   "cell_type": "code",
   "execution_count": 77,
   "metadata": {},
   "outputs": [
    {
     "name": "stdout",
     "output_type": "stream",
     "text": [
      "235    27.341865\n",
      "236    27.603683\n",
      "237    25.333057\n",
      "238    24.600727\n",
      "239    25.228950\n",
      "         ...    \n",
      "465    19.371116\n",
      "466    14.286360\n",
      "467    16.329462\n",
      "468    16.107397\n",
      "469    14.966995\n",
      "Name: predicted_mean, Length: 235, dtype: float64\n"
     ]
    }
   ],
   "source": [
    "start = len(train)\n",
    "end = len(train)+len(test)-1\n",
    "pred = model.predict(start = start,end = end,typ = 'levels')\n",
    "print(pred)"
   ]
  },
  {
   "cell_type": "code",
   "execution_count": 78,
   "metadata": {},
   "outputs": [],
   "source": [
    "def ad_test(dataset):\n",
    "    dftest = adfuller(dataset,autolag = 'AIC')\n",
    "    print(\"1. ADF :\",dftest[0])\n",
    "    print(\"2. P-value :\",dftest[1])\n",
    "    print(\"3. Num of lags :\",dftest[2])\n",
    "    print(\"4. NUmber of Observation use for ADF :\",dftest[3])\n",
    "    print(\"5. Critical Values:\")\n",
    "    critical_values = dftest[4]\n",
    "    for key in critical_values:\n",
    "        value = critical_values[key]\n",
    "        print(f\"\\t{key}: {value}\")"
   ]
  },
  {
   "cell_type": "code",
   "execution_count": 79,
   "metadata": {},
   "outputs": [
    {
     "name": "stdout",
     "output_type": "stream",
     "text": [
      "1. ADF : -4.0903419436336605\n",
      "2. P-value : 0.0010047451115681016\n",
      "3. Num of lags : 25\n",
      "4. NUmber of Observation use for ADF : 2333\n",
      "5. Critical Values:\n",
      "\t1%: -3.4331560478447343\n",
      "\t5%: -2.8627796580313234\n",
      "\t10%: -2.567429924573145\n"
     ]
    }
   ],
   "source": [
    "ad_test(df['Qden'])"
   ]
  },
  {
   "cell_type": "code",
   "execution_count": 80,
   "metadata": {},
   "outputs": [
    {
     "data": {
      "image/png": "[encoded data removed]",
      "text/plain": [
       "<Figure size 640x480 with 1 Axes>"
      ]
     },
     "metadata": {},
     "output_type": "display_data"
    },
    {
     "data": {
      "image/png": "[encoded data removed]",
      "text/plain": [
       "<Figure size 640x480 with 1 Axes>"
      ]
     },
     "metadata": {},
     "output_type": "display_data"
    }
   ],
   "source": [
    "import pandas as pd\n",
    "import matplotlib.pyplot as plt\n",
    "from statsmodels.graphics.tsaplots import plot_acf, plot_pacf\n",
    "\n",
    "df2 = pd.read_csv('test.csv')\n",
    "df2['Qden'] = pd.to_numeric(df2['Qden'], errors='coerce')\n",
    "df2['Thucdo'] = pd.to_numeric(df2['Thucdo'], errors='coerce')\n",
    "df2['Date'] = pd.to_datetime(df2['Date'])\n",
    "df2 = df2.dropna(subset=['Qden', 'Thucdo', 'Date'])\n",
    "\n",
    "# Extract the specific column for ACF and PACF analysis\n",
    "qden_values = df2['Qden']\n",
    "thucdo_values = df2['Thucdo']\n",
    "\n",
    "# ACF plot\n",
    "plot_acf(qden_values, lags=22)\n",
    "plt.xlabel('Lags')\n",
    "plt.ylabel('ACF')\n",
    "plt.title('Autocorrelation Function (ACF)')\n",
    "plt.show()\n",
    "\n",
    "# PACF plot\n",
    "plot_pacf(qden_values, lags=22)\n",
    "plt.xlabel('Lags')\n",
    "plt.ylabel('PACF')\n",
    "plt.title('Partial Autocorrelation Function (PACF)')\n",
    "plt.show()"
   ]
  },
  {
   "cell_type": "code",
   "execution_count": 81,
   "metadata": {},
   "outputs": [],
   "source": [
    "def find_d_value(ts, max_d=5):\n",
    "    for d in range(1, max_d+1):\n",
    "        # Kiểm định ADF\n",
    "        ts_diff = ts.diff(d).dropna()\n",
    "        result = adfuller(ts_diff)\n",
    "\n",
    "        p_value = result[1]\n",
    "        adf_statistic = result[0]\n",
    "        critical_values = result[4]\n",
    "\n",
    "        print('ADF Statistic:', adf_statistic)\n",
    "        print('p-value:', p_value)\n",
    "        print('Critical Values:', critical_values)\n",
    "\n",
    "        if p_value < 0.05:\n",
    "            print(f'Số lần sai phân: {d}')\n",
    "            break\n",
    "    else:\n",
    "        print('Không tìm thấy giá trị d phù hợp.')"
   ]
  },
  {
   "cell_type": "code",
   "execution_count": 82,
   "metadata": {},
   "outputs": [],
   "source": [
    "\n",
    "rmse = sqrt(mean_squared_error(pred,test['Qden']))\n"
   ]
  }
 ],
 "metadata": {
  "kernelspec": {
   "display_name": "Python 3",
   "language": "python",
   "name": "python3"
  },
  "language_info": {
   "codemirror_mode": {
    "name": "ipython",
    "version": 3
   },
   "file_extension": ".py",
   "mimetype": "text/x-python",
   "name": "python",
   "nbconvert_exporter": "python",
   "pygments_lexer": "ipython3",
   "version": "3.9.0"
  }
 },
 "nbformat": 4,
 "nbformat_minor": 2
}
