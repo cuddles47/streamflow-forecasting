{
 "cells": [
  {
   "cell_type": "code",
   "execution_count": 1,
   "metadata": {
    "colab": {
     "base_uri": "https://localhost:8080/"
    },
    "executionInfo": {
     "elapsed": 21285,
     "status": "ok",
     "timestamp": 1655676990304,
     "user": {
      "displayName": "Minh Do Huu",
      "userId": "07954850712453959866"
     },
     "user_tz": -420
    },
    "id": "M_fPR-GV6VpR",
    "outputId": "6d87bc54-9bef-4eb2-b167-765d7781dfe9"
   },
   "outputs": [
    {
     "name": "stdout",
     "output_type": "stream",
     "text": [
      "Mounted at /content/drive\n"
     ]
    }
   ],
   "source": [
    "from google.colab import drive\n",
    "drive.mount('/content/drive')"
   ]
  },
  {
   "cell_type": "code",
   "execution_count": 1,
   "metadata": {
    "colab": {
     "base_uri": "https://localhost:8080/"
    },
    "executionInfo": {
     "elapsed": 2556,
     "status": "ok",
     "timestamp": 1655676994830,
     "user": {
      "displayName": "Minh Do Huu",
      "userId": "07954850712453959866"
     },
     "user_tz": -420
    },
    "id": "XAzANExh6iRm",
    "outputId": "3e393656-bbef-490a-9e8d-6e59f1ebb482"
   },
   "outputs": [],
   "source": [
    "from statsmodels.graphics.tsaplots import plot_acf, plot_pacf\n",
    "from statsmodels.tsa.statespace.varmax import VARMAX\n",
    "from statsmodels.tsa.api import VAR\n",
    "from statsmodels.tsa.stattools import grangercausalitytests, adfuller\n",
    "from tqdm import tqdm_notebook\n",
    "from itertools import product\n",
    "\n",
    "import matplotlib.pyplot as plt\n",
    "import statsmodels.api as sm\n",
    "import pandas as pd\n",
    "import numpy as np\n",
    "\n",
    "import warnings\n",
    "warnings.filterwarnings('ignore')"
   ]
  },
  {
   "cell_type": "code",
   "execution_count": 2,
   "metadata": {
    "colab": {
     "base_uri": "https://localhost:8080/",
     "height": 255
    },
    "executionInfo": {
     "elapsed": 828,
     "status": "ok",
     "timestamp": 1655676998542,
     "user": {
      "displayName": "Minh Do Huu",
      "userId": "07954850712453959866"
     },
     "user_tz": -420
    },
    "id": "gJqPokkJ7rCt",
    "outputId": "55680cf5-69f5-446a-f063-d14e64873f76"
   },
   "outputs": [
    {
     "name": "stdout",
     "output_type": "stream",
     "text": [
      "(2359, 2)\n"
     ]
    },
    {
     "data": {
      "text/html": [
       "<div>\n",
       "<style scoped>\n",
       "    .dataframe tbody tr th:only-of-type {\n",
       "        vertical-align: middle;\n",
       "    }\n",
       "\n",
       "    .dataframe tbody tr th {\n",
       "        vertical-align: top;\n",
       "    }\n",
       "\n",
       "    .dataframe thead th {\n",
       "        text-align: right;\n",
       "    }\n",
       "</style>\n",
       "<table border=\"1\" class=\"dataframe\">\n",
       "  <thead>\n",
       "    <tr style=\"text-align: right;\">\n",
       "      <th></th>\n",
       "      <th>Thucdo</th>\n",
       "      <th>Qden</th>\n",
       "    </tr>\n",
       "    <tr>\n",
       "      <th>Date</th>\n",
       "      <th></th>\n",
       "      <th></th>\n",
       "    </tr>\n",
       "  </thead>\n",
       "  <tbody>\n",
       "    <tr>\n",
       "      <th>2015-09-16</th>\n",
       "      <td>0.0</td>\n",
       "      <td>91</td>\n",
       "    </tr>\n",
       "    <tr>\n",
       "      <th>2015-09-17</th>\n",
       "      <td>3.6</td>\n",
       "      <td>70.77</td>\n",
       "    </tr>\n",
       "    <tr>\n",
       "      <th>2015-09-18</th>\n",
       "      <td>6.4</td>\n",
       "      <td>117.44</td>\n",
       "    </tr>\n",
       "    <tr>\n",
       "      <th>2015-09-19</th>\n",
       "      <td>0.9</td>\n",
       "      <td>146.9</td>\n",
       "    </tr>\n",
       "    <tr>\n",
       "      <th>2015-09-20</th>\n",
       "      <td>0.5</td>\n",
       "      <td>110.87</td>\n",
       "    </tr>\n",
       "  </tbody>\n",
       "</table>\n",
       "</div>"
      ],
      "text/plain": [
       "            Thucdo    Qden\n",
       "Date                      \n",
       "2015-09-16     0.0      91\n",
       "2015-09-17     3.6   70.77\n",
       "2015-09-18     6.4  117.44\n",
       "2015-09-19     0.9   146.9\n",
       "2015-09-20     0.5  110.87"
      ]
     },
     "execution_count": 2,
     "metadata": {},
     "output_type": "execute_result"
    }
   ],
   "source": [
    "df = pd.read_csv('Tinput.csv',index_col=[0], parse_dates=[0])\n",
    "print(df.shape)  # (123, 8)\n",
    "df.head()"
   ]
  },
  {
   "cell_type": "code",
   "execution_count": 3,
   "metadata": {
    "colab": {
     "base_uri": "https://localhost:8080/",
     "height": 238
    },
    "executionInfo": {
     "elapsed": 294,
     "status": "ok",
     "timestamp": 1655660847704,
     "user": {
      "displayName": "Minh Do Huu",
      "userId": "07954850712453959866"
     },
     "user_tz": -420
    },
    "id": "YQhfYLvM8euz",
    "outputId": "2e5f189b-973e-4482-9534-1e7fb9def9c3"
   },
   "outputs": [
    {
     "data": {
      "text/html": [
       "<div>\n",
       "<style scoped>\n",
       "    .dataframe tbody tr th:only-of-type {\n",
       "        vertical-align: middle;\n",
       "    }\n",
       "\n",
       "    .dataframe tbody tr th {\n",
       "        vertical-align: top;\n",
       "    }\n",
       "\n",
       "    .dataframe thead th {\n",
       "        text-align: right;\n",
       "    }\n",
       "</style>\n",
       "<table border=\"1\" class=\"dataframe\">\n",
       "  <thead>\n",
       "    <tr style=\"text-align: right;\">\n",
       "      <th></th>\n",
       "      <th>Thucdo</th>\n",
       "      <th>Qden</th>\n",
       "    </tr>\n",
       "    <tr>\n",
       "      <th>Date</th>\n",
       "      <th></th>\n",
       "      <th></th>\n",
       "    </tr>\n",
       "  </thead>\n",
       "  <tbody>\n",
       "    <tr>\n",
       "      <th>2022-02-25</th>\n",
       "      <td>0.0</td>\n",
       "      <td>58.9</td>\n",
       "    </tr>\n",
       "    <tr>\n",
       "      <th>2022-02-26</th>\n",
       "      <td>0.0</td>\n",
       "      <td>24.45</td>\n",
       "    </tr>\n",
       "    <tr>\n",
       "      <th>2022-02-27</th>\n",
       "      <td>0.0</td>\n",
       "      <td>28.1</td>\n",
       "    </tr>\n",
       "    <tr>\n",
       "      <th>2022-02-28</th>\n",
       "      <td>0.0</td>\n",
       "      <td>38.4</td>\n",
       "    </tr>\n",
       "    <tr>\n",
       "      <th>2022-03-01</th>\n",
       "      <td>0.0</td>\n",
       "      <td>13</td>\n",
       "    </tr>\n",
       "  </tbody>\n",
       "</table>\n",
       "</div>"
      ],
      "text/plain": [
       "            Thucdo   Qden\n",
       "Date                     \n",
       "2022-02-25     0.0   58.9\n",
       "2022-02-26     0.0  24.45\n",
       "2022-02-27     0.0   28.1\n",
       "2022-02-28     0.0   38.4\n",
       "2022-03-01     0.0     13"
      ]
     },
     "execution_count": 3,
     "metadata": {},
     "output_type": "execute_result"
    }
   ],
   "source": [
    "df.tail()"
   ]
  },
  {
   "cell_type": "code",
   "execution_count": 4,
   "metadata": {
    "colab": {
     "base_uri": "https://localhost:8080/"
    },
    "executionInfo": {
     "elapsed": 323,
     "status": "ok",
     "timestamp": 1655677003825,
     "user": {
      "displayName": "Minh Do Huu",
      "userId": "07954850712453959866"
     },
     "user_tz": -420
    },
    "id": "PLPGKB0g86dW",
    "outputId": "dc17a660-3025-474d-ba4a-d8ff1eafe900"
   },
   "outputs": [
    {
     "name": "stdout",
     "output_type": "stream",
     "text": [
      "<class 'pandas.core.frame.DataFrame'>\n",
      "DatetimeIndex: 2359 entries, 2015-09-16 to 2022-03-01\n",
      "Data columns (total 2 columns):\n",
      " #   Column  Non-Null Count  Dtype  \n",
      "---  ------  --------------  -----  \n",
      " 0   Thucdo  2359 non-null   float64\n",
      " 1   Qden    2359 non-null   object \n",
      "dtypes: float64(1), object(1)\n",
      "memory usage: 55.3+ KB\n"
     ]
    }
   ],
   "source": [
    "df.info()"
   ]
  },
  {
   "cell_type": "code",
   "execution_count": 5,
   "metadata": {
    "executionInfo": {
     "elapsed": 325,
     "status": "ok",
     "timestamp": 1655677006170,
     "user": {
      "displayName": "Minh Do Huu",
      "userId": "07954850712453959866"
     },
     "user_tz": -420
    },
    "id": "23xEDyK18874"
   },
   "outputs": [],
   "source": [
    "df['Qden'] = pd.to_numeric(df['Qden'], errors='coerce')"
   ]
  },
  {
   "cell_type": "code",
   "execution_count": 6,
   "metadata": {
    "executionInfo": {
     "elapsed": 292,
     "status": "ok",
     "timestamp": 1655677007949,
     "user": {
      "displayName": "Minh Do Huu",
      "userId": "07954850712453959866"
     },
     "user_tz": -420
    },
    "id": "vR-_2Ajzscem"
   },
   "outputs": [],
   "source": [
    "df['Qden'] = df['Qden'].fillna(115)"
   ]
  },
  {
   "cell_type": "code",
   "execution_count": 7,
   "metadata": {
    "colab": {
     "base_uri": "https://localhost:8080/",
     "height": 724
    },
    "executionInfo": {
     "elapsed": 1142,
     "status": "ok",
     "timestamp": 1655677010902,
     "user": {
      "displayName": "Minh Do Huu",
      "userId": "07954850712453959866"
     },
     "user_tz": -420
    },
    "id": "48Wb6rz7ADbr",
    "outputId": "ac3fa9a9-b4b1-4996-fd4f-93610f9a7f49"
   },
   "outputs": [
    {
     "data": {
      "image/png": "[encoded data removed]",
      "text/plain": [
       "<Figure size 720x720 with 2 Axes>"
      ]
     },
     "metadata": {},
     "output_type": "display_data"
    }
   ],
   "source": [
    "fig, axes = plt.subplots(nrows=2, ncols=1, dpi=120, figsize=(6,6))\n",
    "for i, ax in enumerate(axes.flatten()):\n",
    "    data = df[df.columns[i]] \n",
    "    ax.plot(data, color='red', linewidth=1)\n",
    "    # Decorations\n",
    "    ax.set_title(df.columns[i])\n",
    "    ax.xaxis.set_ticks_position('none')\n",
    "    ax.yaxis.set_ticks_position('none')\n",
    "    ax.spines[\"top\"].set_alpha(0)\n",
    "    ax.tick_params(labelsize=6)\n",
    "\n",
    "plt.tight_layout();"
   ]
  },
  {
   "cell_type": "code",
   "execution_count": 8,
   "metadata": {
    "id": "JyyM0padDIS7"
   },
   "outputs": [],
   "source": [
    "#ktra chuỗi dừng"
   ]
  },
  {
   "cell_type": "code",
   "execution_count": 9,
   "metadata": {
    "colab": {
     "base_uri": "https://localhost:8080/"
    },
    "executionInfo": {
     "elapsed": 839,
     "status": "ok",
     "timestamp": 1655677339689,
     "user": {
      "displayName": "Minh Do Huu",
      "userId": "07954850712453959866"
     },
     "user_tz": -420
    },
    "id": "L10w63uhDsUK",
    "outputId": "9bde3ba5-9331-447d-d7e8-48199e85aff4"
   },
   "outputs": [
    {
     "name": "stdout",
     "output_type": "stream",
     "text": [
      "realThucdo\n",
      "ADF Statistic: -15.212184512513016\n",
      "p-value: 5.634486104943394e-28\n",
      "\n",
      "---------------------\n",
      "\n",
      "realQden\n",
      "ADF Statistic: -4.089526891085459\n",
      "p-value: 0.0010078590959961711\n"
     ]
    }
   ],
   "source": [
    "ad_fuller_result_1 = adfuller(df['Thucdo'].diff()[1:])\n",
    "\n",
    "print('realThucdo')\n",
    "print(f'ADF Statistic: {ad_fuller_result_1[0]}')\n",
    "print(f'p-value: {ad_fuller_result_1[1]}')\n",
    "\n",
    "print('\\n---------------------\\n')\n",
    "\n",
    "ad_fuller_result_2 = adfuller(df['Qden'])\n",
    "\n",
    "print('realQden')\n",
    "print(f'ADF Statistic: {ad_fuller_result_2[0]}')\n",
    "print(f'p-value: {ad_fuller_result_2[1]}')"
   ]
  },
  {
   "cell_type": "code",
   "execution_count": 10,
   "metadata": {
    "colab": {
     "base_uri": "https://localhost:8080/"
    },
    "executionInfo": {
     "elapsed": 342,
     "status": "ok",
     "timestamp": 1655677345765,
     "user": {
      "displayName": "Minh Do Huu",
      "userId": "07954850712453959866"
     },
     "user_tz": -420
    },
    "id": "9gxVIv98vhOC",
    "outputId": "bb533107-fcbb-445d-b26b-b0682965793f"
   },
   "outputs": [
    {
     "name": "stdout",
     "output_type": "stream",
     "text": [
      "Thucdo causes Qden?\n",
      "\n",
      "------------------\n",
      "\n",
      "Granger Causality\n",
      "number of lags (no zero) 1\n",
      "ssr based F test:         F=0.2823  , p=0.5953  , df_denom=2355, df_num=1\n",
      "ssr based chi2 test:   chi2=0.2827  , p=0.5950  , df=1\n",
      "likelihood ratio test: chi2=0.2826  , p=0.5950  , df=1\n",
      "parameter F test:         F=0.2823  , p=0.5953  , df_denom=2355, df_num=1\n",
      "\n",
      "Granger Causality\n",
      "number of lags (no zero) 2\n",
      "ssr based F test:         F=16.7089 , p=0.0000  , df_denom=2352, df_num=2\n",
      "ssr based chi2 test:   chi2=33.4889 , p=0.0000  , df=2\n",
      "likelihood ratio test: chi2=33.2533 , p=0.0000  , df=2\n",
      "parameter F test:         F=16.7089 , p=0.0000  , df_denom=2352, df_num=2\n",
      "\n",
      "Granger Causality\n",
      "number of lags (no zero) 3\n",
      "ssr based F test:         F=15.4294 , p=0.0000  , df_denom=2349, df_num=3\n",
      "ssr based chi2 test:   chi2=46.4260 , p=0.0000  , df=3\n",
      "likelihood ratio test: chi2=45.9745 , p=0.0000  , df=3\n",
      "parameter F test:         F=15.4294 , p=0.0000  , df_denom=2349, df_num=3\n",
      "\n",
      "Granger Causality\n",
      "number of lags (no zero) 4\n",
      "ssr based F test:         F=13.1198 , p=0.0000  , df_denom=2346, df_num=4\n",
      "ssr based chi2 test:   chi2=52.6804 , p=0.0000  , df=4\n",
      "likelihood ratio test: chi2=52.0998 , p=0.0000  , df=4\n",
      "parameter F test:         F=13.1198 , p=0.0000  , df_denom=2346, df_num=4\n",
      "Qden causes Thucdo?\n",
      "\n",
      "------------------\n",
      "\n",
      "Granger Causality\n",
      "number of lags (no zero) 1\n",
      "ssr based F test:         F=99.2123 , p=0.0000  , df_denom=2355, df_num=1\n",
      "ssr based chi2 test:   chi2=99.3387 , p=0.0000  , df=1\n",
      "likelihood ratio test: chi2=97.3032 , p=0.0000  , df=1\n",
      "parameter F test:         F=99.2123 , p=0.0000  , df_denom=2355, df_num=1\n",
      "\n",
      "Granger Causality\n",
      "number of lags (no zero) 2\n",
      "ssr based F test:         F=38.9276 , p=0.0000  , df_denom=2352, df_num=2\n",
      "ssr based chi2 test:   chi2=78.0206 , p=0.0000  , df=2\n",
      "likelihood ratio test: chi2=76.7571 , p=0.0000  , df=2\n",
      "parameter F test:         F=38.9276 , p=0.0000  , df_denom=2352, df_num=2\n",
      "\n",
      "Granger Causality\n",
      "number of lags (no zero) 3\n",
      "ssr based F test:         F=23.2344 , p=0.0000  , df_denom=2349, df_num=3\n",
      "ssr based chi2 test:   chi2=69.9109 , p=0.0000  , df=3\n",
      "likelihood ratio test: chi2=68.8937 , p=0.0000  , df=3\n",
      "parameter F test:         F=23.2344 , p=0.0000  , df_denom=2349, df_num=3\n",
      "\n",
      "Granger Causality\n",
      "number of lags (no zero) 4\n",
      "ssr based F test:         F=14.4185 , p=0.0000  , df_denom=2346, df_num=4\n",
      "ssr based chi2 test:   chi2=57.8951 , p=0.0000  , df=4\n",
      "likelihood ratio test: chi2=57.1949 , p=0.0000  , df=4\n",
      "parameter F test:         F=14.4185 , p=0.0000  , df_denom=2346, df_num=4\n"
     ]
    }
   ],
   "source": [
    "print('Thucdo causes Qden?\\n')\n",
    "print('------------------')\n",
    "granger_1 = grangercausalitytests(df[['Qden', 'Thucdo']], 4)\n",
    "\n",
    "print('Qden causes Thucdo?\\n')\n",
    "print('------------------')\n",
    "granger_2 = grangercausalitytests(df[['Thucdo', 'Qden']], 4)"
   ]
  },
  {
   "cell_type": "code",
   "execution_count": 11,
   "metadata": {
    "colab": {
     "base_uri": "https://localhost:8080/"
    },
    "executionInfo": {
     "elapsed": 293,
     "status": "ok",
     "timestamp": 1655677352566,
     "user": {
      "displayName": "Minh Do Huu",
      "userId": "07954850712453959866"
     },
     "user_tz": -420
    },
    "id": "-EMVqAJ-wOgi",
    "outputId": "dd85cb9c-c684-442d-bf16-111efa5d8270"
   },
   "outputs": [
    {
     "name": "stdout",
     "output_type": "stream",
     "text": [
      "(2359, 2)\n"
     ]
    }
   ],
   "source": [
    "df = df[['Thucdo','Qden']]\n",
    "print(df.shape)"
   ]
  },
  {
   "cell_type": "code",
   "execution_count": 12,
   "metadata": {
    "executionInfo": {
     "elapsed": 298,
     "status": "ok",
     "timestamp": 1655677556173,
     "user": {
      "displayName": "Minh Do Huu",
      "userId": "07954850712453959866"
     },
     "user_tz": -420
    },
    "id": "HprCUzRgwVT4"
   },
   "outputs": [],
   "source": [
    "train_df=df[:-12]\n",
    "test_df=df[-12:]"
   ]
  },
  {
   "cell_type": "code",
   "execution_count": 17,
   "metadata": {},
   "outputs": [
    {
     "name": "stdout",
     "output_type": "stream",
     "text": [
      "(2347, 2)\n"
     ]
    }
   ],
   "source": [
    "print(train_df.shape)"
   ]
  },
  {
   "cell_type": "code",
   "execution_count": 13,
   "metadata": {
    "colab": {
     "base_uri": "https://localhost:8080/"
    },
    "executionInfo": {
     "elapsed": 5,
     "status": "ok",
     "timestamp": 1655677557580,
     "user": {
      "displayName": "Minh Do Huu",
      "userId": "07954850712453959866"
     },
     "user_tz": -420
    },
    "id": "wVXAnOnBwaFc",
    "outputId": "28d5c71f-1f2a-40e8-96db-754a46ea5519"
   },
   "outputs": [
    {
     "name": "stdout",
     "output_type": "stream",
     "text": [
      "(12, 2)\n"
     ]
    }
   ],
   "source": [
    "print(test_df.shape)"
   ]
  },
  {
   "cell_type": "code",
   "execution_count": 22,
   "metadata": {},
   "outputs": [
    {
     "name": "stdout",
     "output_type": "stream",
     "text": [
      "            Thucdo   Qden\n",
      "Date                     \n",
      "2015-09-16     NaN    NaN\n",
      "2015-09-17     3.6 -20.23\n",
      "2015-09-18     2.8  46.67\n",
      "2015-09-19    -5.5  29.46\n",
      "2015-09-20    -0.4 -36.03\n",
      "...            ...    ...\n",
      "2022-02-13    -0.4  12.75\n",
      "2022-02-14     0.0 -16.35\n",
      "2022-02-15     0.0 -16.30\n",
      "2022-02-16     0.0   8.85\n",
      "2022-02-17     0.0   9.30\n",
      "\n",
      "[2347 rows x 2 columns]\n"
     ]
    }
   ],
   "source": [
    "print(train_df.diff())"
   ]
  },
  {
   "cell_type": "code",
   "execution_count": 23,
   "metadata": {
    "executionInfo": {
     "elapsed": 5,
     "status": "ok",
     "timestamp": 1655677559005,
     "user": {
      "displayName": "Minh Do Huu",
      "userId": "07954850712453959866"
     },
     "user_tz": -420
    },
    "id": "5_N3JZOfwckF"
   },
   "outputs": [],
   "source": [
    "model = VAR(train_df.diff()[1:])"
   ]
  },
  {
   "cell_type": "code",
   "execution_count": 24,
   "metadata": {
    "colab": {
     "base_uri": "https://localhost:8080/"
    },
    "executionInfo": {
     "elapsed": 1699,
     "status": "ok",
     "timestamp": 1655677594773,
     "user": {
      "displayName": "Minh Do Huu",
      "userId": "07954850712453959866"
     },
     "user_tz": -420
    },
    "id": "Ki44Qrb8wfN3",
    "outputId": "49a4ef91-fd41-4c81-b8d4-fa7957a5f9e8"
   },
   "outputs": [
    {
     "name": "stdout",
     "output_type": "stream",
     "text": [
      " VAR Order Selection (* highlights the minimums)  \n",
      "==================================================\n",
      "       AIC         BIC         FPE         HQIC   \n",
      "--------------------------------------------------\n",
      "0        14.45       14.45   1.877e+06       14.45\n",
      "1        14.12       14.13   1.352e+06       14.12\n",
      "2        13.97       14.00   1.170e+06       13.98\n",
      "3        13.88       13.92   1.067e+06       13.89\n",
      "4        13.81       13.85   9.921e+05       13.82\n",
      "5        13.77       13.82   9.534e+05       13.79\n",
      "6        13.74       13.81   9.299e+05       13.77\n",
      "7        13.73       13.80   9.182e+05       13.76\n",
      "8        13.71       13.80   9.025e+05       13.74\n",
      "9        13.70       13.79   8.907e+05       13.73\n",
      "10       13.69       13.80   8.833e+05       13.73\n",
      "11       13.67      13.79*   8.683e+05      13.72*\n",
      "12       13.67       13.80   8.679e+05       13.72\n",
      "13       13.67       13.80   8.632e+05       13.72\n",
      "14       13.67       13.81   8.618e+05       13.72\n",
      "15       13.66       13.82   8.582e+05       13.72\n",
      "16       13.66       13.82   8.551e+05       13.72\n",
      "17       13.66       13.83   8.550e+05       13.72\n",
      "18       13.65       13.84   8.500e+05       13.72\n",
      "19       13.65       13.85   8.482e+05       13.72\n",
      "20       13.65       13.86   8.501e+05       13.73\n",
      "21       13.65       13.86   8.446e+05       13.72\n",
      "22       13.65       13.87   8.458e+05       13.73\n",
      "23       13.65       13.88   8.474e+05       13.74\n",
      "24       13.65       13.89   8.482e+05       13.74\n",
      "25       13.65       13.90   8.439e+05       13.74\n",
      "26       13.65       13.91   8.463e+05       13.74\n",
      "27       13.65       13.93   8.486e+05       13.75\n",
      "28       13.64       13.92   8.390e+05       13.74\n",
      "29       13.64       13.94   8.405e+05       13.75\n",
      "30       13.64       13.94   8.381e+05       13.75\n",
      "31       13.64       13.95   8.384e+05       13.75\n",
      "32       13.64       13.97   8.406e+05       13.76\n",
      "33       13.63       13.97   8.332e+05       13.75\n",
      "34       13.63       13.97   8.269e+05       13.75\n",
      "35      13.62*       13.98  8.254e+05*       13.75\n",
      "36       13.63       13.99   8.274e+05       13.76\n",
      "37       13.62       14.00   8.257e+05       13.76\n",
      "38       13.63       14.01   8.269e+05       13.77\n",
      "39       13.63       14.02   8.272e+05       13.77\n",
      "40       13.63       14.03   8.277e+05       13.77\n",
      "--------------------------------------------------\n"
     ]
    }
   ],
   "source": [
    "sorted_order=model.select_order(maxlags=40)\n",
    "print(sorted_order.summary())"
   ]
  },
  {
   "cell_type": "code",
   "execution_count": 26,
   "metadata": {
    "colab": {
     "base_uri": "https://localhost:8080/"
    },
    "executionInfo": {
     "elapsed": 5713,
     "status": "ok",
     "timestamp": 1655677604977,
     "user": {
      "displayName": "Minh Do Huu",
      "userId": "07954850712453959866"
     },
     "user_tz": -420
    },
    "id": "kMFvgE76xVtb",
    "outputId": "fa7611a5-3ce0-481b-d903-431576344277"
   },
   "outputs": [
    {
     "name": "stdout",
     "output_type": "stream",
     "text": [
      "                           Statespace Model Results                           \n",
      "==============================================================================\n",
      "Dep. Variable:     ['Thucdo', 'Qden']   No. Observations:                 2347\n",
      "Model:                         VAR(4)   Log Likelihood              -22660.455\n",
      "                          + intercept   AIC                          45362.909\n",
      "Date:                Wed, 15 Mar 2023   BIC                          45483.888\n",
      "Time:                        11:03:23   HQIC                         45406.972\n",
      "Sample:                    09-16-2015                                         \n",
      "                         - 02-17-2022                                         \n",
      "Covariance Type:                  opg                                         \n",
      "====================================================================================\n",
      "Ljung-Box (L1) (Q):             0.05, 0.28   Jarque-Bera (JB):   410825.45, 75068.42\n",
      "Prob(Q):                        0.83, 0.60   Prob(JB):                    0.00, 0.00\n",
      "Heteroskedasticity (H):         1.65, 0.92   Skew:                        6.47, 2.57\n",
      "Prob(H) (two-sided):            0.00, 0.25   Kurtosis:                  66.51, 30.22\n",
      "                         Results for equation Thucdo                          \n",
      "==============================================================================\n",
      "                 coef    std err          z      P>|z|      [0.025      0.975]\n",
      "------------------------------------------------------------------------------\n",
      "intercept      1.1248      0.569      1.977      0.048       0.009       2.240\n",
      "L1.Thucdo      0.1040      0.015      7.034      0.000       0.075       0.133\n",
      "L1.Qden        0.0157      0.002      8.641      0.000       0.012       0.019\n",
      "L2.Thucdo      0.0752      0.016      4.667      0.000       0.044       0.107\n",
      "L2.Qden       -0.0013      0.003     -0.478      0.632      -0.007       0.004\n",
      "L3.Thucdo      0.0151      0.022      0.678      0.498      -0.029       0.059\n",
      "L3.Qden       -0.0031      0.004     -0.809      0.419      -0.011       0.004\n",
      "L4.Thucdo      0.0504      0.014      3.535      0.000       0.022       0.078\n",
      "L4.Qden        0.0030      0.003      1.065      0.287      -0.003       0.008\n",
      "                          Results for equation Qden                           \n",
      "==============================================================================\n",
      "                 coef    std err          z      P>|z|      [0.025      0.975]\n",
      "------------------------------------------------------------------------------\n",
      "intercept     12.8851      4.511      2.856      0.004       4.044      21.726\n",
      "L1.Thucdo      0.1406      0.089      1.586      0.113      -0.033       0.314\n",
      "L1.Qden        0.5849      0.011     53.298      0.000       0.563       0.606\n",
      "L2.Thucdo      0.9512      0.081     11.717      0.000       0.792       1.110\n",
      "L2.Qden        0.0270      0.015      1.832      0.067      -0.002       0.056\n",
      "L3.Thucdo      0.4107      0.093      4.398      0.000       0.228       0.594\n",
      "L3.Qden        0.1092      0.015      7.097      0.000       0.079       0.139\n",
      "L4.Thucdo     -0.0140      0.117     -0.119      0.905      -0.243       0.215\n",
      "L4.Qden        0.1113      0.013      8.361      0.000       0.085       0.137\n",
      "                                Error covariance matrix                                 \n",
      "========================================================================================\n",
      "                           coef    std err          z      P>|z|      [0.025      0.975]\n",
      "----------------------------------------------------------------------------------------\n",
      "sqrt.var.Thucdo         11.4925      0.067    170.990      0.000      11.361      11.624\n",
      "sqrt.cov.Thucdo.Qden    21.3622      0.939     22.740      0.000      19.521      23.203\n",
      "sqrt.var.Qden           79.6462      0.557    142.984      0.000      78.554      80.738\n",
      "========================================================================================\n",
      "\n",
      "Warnings:\n",
      "[1] Covariance matrix calculated using the outer product of gradients (complex-step).\n"
     ]
    }
   ],
   "source": [
    "var_model = VARMAX(train_df, order=(4,0),enforce_stationarity= True)\n",
    "fitted_model = var_model.fit(disp=False)\n",
    "print(fitted_model.summary())"
   ]
  },
  {
   "cell_type": "code",
   "execution_count": 27,
   "metadata": {
    "executionInfo": {
     "elapsed": 312,
     "status": "ok",
     "timestamp": 1655677614429,
     "user": {
      "displayName": "Minh Do Huu",
      "userId": "07954850712453959866"
     },
     "user_tz": -420
    },
    "id": "GRGCzdLHzLpu"
   },
   "outputs": [],
   "source": [
    "n_forecast = 12\n",
    "predict = fitted_model.get_prediction(start=len(train_df),end=len(train_df) + n_forecast-1)\n",
    "\n",
    "predictions=predict.predicted_mean"
   ]
  },
  {
   "cell_type": "code",
   "execution_count": 28,
   "metadata": {
    "colab": {
     "base_uri": "https://localhost:8080/",
     "height": 426
    },
    "executionInfo": {
     "elapsed": 663,
     "status": "ok",
     "timestamp": 1655677658823,
     "user": {
      "displayName": "Minh Do Huu",
      "userId": "07954850712453959866"
     },
     "user_tz": -420
    },
    "id": "KBb8ADTwzQDb",
    "outputId": "41e88ad6-1c54-4221-8d31-84466dbdfdd0"
   },
   "outputs": [
    {
     "data": {
      "text/html": [
       "<div>\n",
       "<style scoped>\n",
       "    .dataframe tbody tr th:only-of-type {\n",
       "        vertical-align: middle;\n",
       "    }\n",
       "\n",
       "    .dataframe tbody tr th {\n",
       "        vertical-align: top;\n",
       "    }\n",
       "\n",
       "    .dataframe thead th {\n",
       "        text-align: right;\n",
       "    }\n",
       "</style>\n",
       "<table border=\"1\" class=\"dataframe\">\n",
       "  <thead>\n",
       "    <tr style=\"text-align: right;\">\n",
       "      <th></th>\n",
       "      <th>Thucdo_predicted</th>\n",
       "      <th>Qden_predicted</th>\n",
       "    </tr>\n",
       "  </thead>\n",
       "  <tbody>\n",
       "    <tr>\n",
       "      <th>2022-02-18</th>\n",
       "      <td>1.607905</td>\n",
       "      <td>34.959931</td>\n",
       "    </tr>\n",
       "    <tr>\n",
       "      <th>2022-02-19</th>\n",
       "      <td>1.773378</td>\n",
       "      <td>37.811356</td>\n",
       "    </tr>\n",
       "    <tr>\n",
       "      <th>2022-02-20</th>\n",
       "      <td>1.946456</td>\n",
       "      <td>43.180934</td>\n",
       "    </tr>\n",
       "    <tr>\n",
       "      <th>2022-02-21</th>\n",
       "      <td>2.092270</td>\n",
       "      <td>48.877470</td>\n",
       "    </tr>\n",
       "    <tr>\n",
       "      <th>2022-02-22</th>\n",
       "      <td>2.293909</td>\n",
       "      <td>53.509515</td>\n",
       "    </tr>\n",
       "    <tr>\n",
       "      <th>2022-02-23</th>\n",
       "      <td>2.393845</td>\n",
       "      <td>57.511910</td>\n",
       "    </tr>\n",
       "    <tr>\n",
       "      <th>2022-02-24</th>\n",
       "      <td>2.485366</td>\n",
       "      <td>61.460822</td>\n",
       "    </tr>\n",
       "    <tr>\n",
       "      <th>2022-02-25</th>\n",
       "      <td>2.572104</td>\n",
       "      <td>65.207038</td>\n",
       "    </tr>\n",
       "    <tr>\n",
       "      <th>2022-02-26</th>\n",
       "      <td>2.654667</td>\n",
       "      <td>68.594785</td>\n",
       "    </tr>\n",
       "    <tr>\n",
       "      <th>2022-02-27</th>\n",
       "      <td>2.724112</td>\n",
       "      <td>71.684293</td>\n",
       "    </tr>\n",
       "    <tr>\n",
       "      <th>2022-02-28</th>\n",
       "      <td>2.787642</td>\n",
       "      <td>74.553947</td>\n",
       "    </tr>\n",
       "    <tr>\n",
       "      <th>2022-03-01</th>\n",
       "      <td>2.846716</td>\n",
       "      <td>77.210307</td>\n",
       "    </tr>\n",
       "  </tbody>\n",
       "</table>\n",
       "</div>"
      ],
      "text/plain": [
       "            Thucdo_predicted  Qden_predicted\n",
       "2022-02-18          1.607905       34.959931\n",
       "2022-02-19          1.773378       37.811356\n",
       "2022-02-20          1.946456       43.180934\n",
       "2022-02-21          2.092270       48.877470\n",
       "2022-02-22          2.293909       53.509515\n",
       "2022-02-23          2.393845       57.511910\n",
       "2022-02-24          2.485366       61.460822\n",
       "2022-02-25          2.572104       65.207038\n",
       "2022-02-26          2.654667       68.594785\n",
       "2022-02-27          2.724112       71.684293\n",
       "2022-02-28          2.787642       74.553947\n",
       "2022-03-01          2.846716       77.210307"
      ]
     },
     "execution_count": 28,
     "metadata": {},
     "output_type": "execute_result"
    }
   ],
   "source": [
    "predictions.columns=['Thucdo_predicted','Qden_predicted']\n",
    "predictions"
   ]
  },
  {
   "cell_type": "code",
   "execution_count": 29,
   "metadata": {
    "executionInfo": {
     "elapsed": 331,
     "status": "ok",
     "timestamp": 1655677663516,
     "user": {
      "displayName": "Minh Do Huu",
      "userId": "07954850712453959866"
     },
     "user_tz": -420
    },
    "id": "qRB_1ZtQzijS"
   },
   "outputs": [],
   "source": [
    "test_vs_pred=pd.concat([test_df,predictions],axis=1)"
   ]
  },
  {
   "cell_type": "code",
   "execution_count": 30,
   "metadata": {
    "colab": {
     "base_uri": "https://localhost:8080/",
     "height": 360
    },
    "executionInfo": {
     "elapsed": 472,
     "status": "ok",
     "timestamp": 1655677665498,
     "user": {
      "displayName": "Minh Do Huu",
      "userId": "07954850712453959866"
     },
     "user_tz": -420
    },
    "id": "LXGFxFf5zlUT",
    "outputId": "72d062d0-3a29-4d26-cbaa-462e4902ea72"
   },
   "outputs": [
    {
     "data": {
      "text/plain": [
       "<Axes: >"
      ]
     },
     "execution_count": 30,
     "metadata": {},
     "output_type": "execute_result"
    },
    {
     "data": {
      "image/png": "[encoded data removed]",
      "text/plain": [
       "<Figure size 1200x500 with 1 Axes>"
      ]
     },
     "metadata": {},
     "output_type": "display_data"
    }
   ],
   "source": [
    "test_vs_pred.plot(figsize=(12,5))"
   ]
  },
  {
   "cell_type": "code",
   "execution_count": 31,
   "metadata": {
    "colab": {
     "base_uri": "https://localhost:8080/"
    },
    "executionInfo": {
     "elapsed": 342,
     "status": "ok",
     "timestamp": 1655677674194,
     "user": {
      "displayName": "Minh Do Huu",
      "userId": "07954850712453959866"
     },
     "user_tz": -420
    },
    "id": "_z8HyH0Azps0",
    "outputId": "aaecc8ac-8227-4f80-af29-3d4702488ffe"
   },
   "outputs": [
    {
     "name": "stdout",
     "output_type": "stream",
     "text": [
      "Mean value of Qden is : 50.94916666666667. Root Mean Squared Error is :43.68698141607131\n",
      "Mean value of Thucdo is : 0.4. Root Mean Squared Error is :2.3140180736128952\n"
     ]
    }
   ],
   "source": [
    "from sklearn.metrics import mean_squared_error\n",
    "import math \n",
    "from statistics import mean\n",
    "\n",
    "rmse_Qden=math.sqrt(mean_squared_error(predictions['Qden_predicted'],test_df['Qden']))\n",
    "print('Mean value of Qden is : {}. Root Mean Squared Error is :{}'.format(mean(test_df['Qden']),rmse_Qden))\n",
    "\n",
    "rmse_Thucdo=math.sqrt(mean_squared_error(predictions['Thucdo_predicted'],test_df['Thucdo']))\n",
    "print('Mean value of Thucdo is : {}. Root Mean Squared Error is :{}'.format(mean(test_df['Thucdo']),rmse_Thucdo))"
   ]
  }
 ],
 "metadata": {
  "colab": {
   "authorship_tag": "ABX9TyMh1Fqiml+/0a+FdH2M4CRb",
   "collapsed_sections": [],
   "name": "VAR.ipynb",
   "provenance": []
  },
  "kernelspec": {
   "display_name": "Python 3 (ipykernel)",
   "language": "python",
   "name": "python3"
  },
  "language_info": {
   "codemirror_mode": {
    "name": "ipython",
    "version": 3
   },
   "file_extension": ".py",
   "mimetype": "text/x-python",
   "name": "python",
   "nbconvert_exporter": "python",
   "pygments_lexer": "ipython3",
   "version": "3.9.16"
  }
 },
 "nbformat": 4,
 "nbformat_minor": 1
}
